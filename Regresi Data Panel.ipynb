{
 "cells": [
  {
   "cell_type": "code",
   "execution_count": 11,
   "metadata": {},
   "outputs": [
    {
     "name": "stdout",
     "output_type": "stream",
     "text": [
      "Requirement already satisfied: pandas in c:\\users\\user\\anaconda3\\lib\\site-packages (2.0.3)\n",
      "Requirement already satisfied: statsmodels in c:\\users\\user\\anaconda3\\lib\\site-packages (0.14.0)\n",
      "Requirement already satisfied: python-dateutil>=2.8.2 in c:\\users\\user\\appdata\\roaming\\python\\python311\\site-packages (from pandas) (2.8.2)\n",
      "Requirement already satisfied: pytz>=2020.1 in c:\\users\\user\\anaconda3\\lib\\site-packages (from pandas) (2023.3.post1)\n",
      "Requirement already satisfied: tzdata>=2022.1 in c:\\users\\user\\anaconda3\\lib\\site-packages (from pandas) (2023.3)\n",
      "Requirement already satisfied: numpy>=1.21.0 in c:\\users\\user\\anaconda3\\lib\\site-packages (from pandas) (1.26.4)\n",
      "Requirement already satisfied: scipy!=1.9.2,>=1.4 in c:\\users\\user\\anaconda3\\lib\\site-packages (from statsmodels) (1.11.1)\n",
      "Requirement already satisfied: patsy>=0.5.2 in c:\\users\\user\\anaconda3\\lib\\site-packages (from statsmodels) (0.5.3)\n",
      "Requirement already satisfied: packaging>=21.3 in c:\\users\\user\\appdata\\roaming\\python\\python311\\site-packages (from statsmodels) (23.1)\n",
      "Requirement already satisfied: six in c:\\users\\user\\appdata\\roaming\\python\\python311\\site-packages (from patsy>=0.5.2->statsmodels) (1.16.0)\n",
      "Note: you may need to restart the kernel to use updated packages.\n"
     ]
    },
    {
     "name": "stderr",
     "output_type": "stream",
     "text": [
      "\n",
      "[notice] A new release of pip is available: 24.2 -> 24.3.1\n",
      "[notice] To update, run: python.exe -m pip install --upgrade pip\n"
     ]
    }
   ],
   "source": [
    "pip install pandas statsmodels"
   ]
  },
  {
   "cell_type": "markdown",
   "metadata": {},
   "source": [
    "### Import Library"
   ]
  },
  {
   "cell_type": "code",
   "execution_count": 12,
   "metadata": {},
   "outputs": [],
   "source": [
    "import pandas as pd\n",
    "import statsmodels.api as sm\n",
    "from statsmodels.formula.api import ols\n",
    "from statsmodels.stats.diagnostic import het_breuschpagan, het_white"
   ]
  },
  {
   "cell_type": "markdown",
   "metadata": {},
   "source": [
    "### Load Data"
   ]
  },
  {
   "cell_type": "code",
   "execution_count": 13,
   "metadata": {},
   "outputs": [
    {
     "data": {
      "text/html": [
       "<div>\n",
       "<style scoped>\n",
       "    .dataframe tbody tr th:only-of-type {\n",
       "        vertical-align: middle;\n",
       "    }\n",
       "\n",
       "    .dataframe tbody tr th {\n",
       "        vertical-align: top;\n",
       "    }\n",
       "\n",
       "    .dataframe thead th {\n",
       "        text-align: right;\n",
       "    }\n",
       "</style>\n",
       "<table border=\"1\" class=\"dataframe\">\n",
       "  <thead>\n",
       "    <tr style=\"text-align: right;\">\n",
       "      <th></th>\n",
       "      <th>Provinsi</th>\n",
       "      <th>Triwulan</th>\n",
       "      <th>Pengeluaran_Konsumsi_Rumah_Tangga</th>\n",
       "      <th>Pengeluaran_Konsumsi_LNPRT</th>\n",
       "      <th>Pengeluaran_Konsumsi_Pemerintah</th>\n",
       "      <th>PDRB</th>\n",
       "    </tr>\n",
       "  </thead>\n",
       "  <tbody>\n",
       "    <tr>\n",
       "      <th>0</th>\n",
       "      <td>ACEH</td>\n",
       "      <td>Triwulan 1</td>\n",
       "      <td>153.50</td>\n",
       "      <td>149.80</td>\n",
       "      <td>170.39</td>\n",
       "      <td>153.11</td>\n",
       "    </tr>\n",
       "    <tr>\n",
       "      <th>1</th>\n",
       "      <td>ACEH</td>\n",
       "      <td>Triwulan2</td>\n",
       "      <td>155.04</td>\n",
       "      <td>149.93</td>\n",
       "      <td>176.95</td>\n",
       "      <td>153.82</td>\n",
       "    </tr>\n",
       "    <tr>\n",
       "      <th>2</th>\n",
       "      <td>ACEH</td>\n",
       "      <td>Triwulan 3</td>\n",
       "      <td>155.63</td>\n",
       "      <td>149.98</td>\n",
       "      <td>175.16</td>\n",
       "      <td>154.96</td>\n",
       "    </tr>\n",
       "    <tr>\n",
       "      <th>3</th>\n",
       "      <td>ACEH</td>\n",
       "      <td>Triwulan 4</td>\n",
       "      <td>156.07</td>\n",
       "      <td>150.90</td>\n",
       "      <td>178.50</td>\n",
       "      <td>156.18</td>\n",
       "    </tr>\n",
       "    <tr>\n",
       "      <th>132</th>\n",
       "      <td>PAPUA</td>\n",
       "      <td>Triwulan 1</td>\n",
       "      <td>175.03</td>\n",
       "      <td>172.66</td>\n",
       "      <td>168.11</td>\n",
       "      <td>159.46</td>\n",
       "    </tr>\n",
       "    <tr>\n",
       "      <th>133</th>\n",
       "      <td>PAPUA</td>\n",
       "      <td>Triwulan2</td>\n",
       "      <td>179.07</td>\n",
       "      <td>176.18</td>\n",
       "      <td>170.99</td>\n",
       "      <td>158.05</td>\n",
       "    </tr>\n",
       "    <tr>\n",
       "      <th>134</th>\n",
       "      <td>PAPUA</td>\n",
       "      <td>Triwulan 3</td>\n",
       "      <td>180.28</td>\n",
       "      <td>177.60</td>\n",
       "      <td>170.32</td>\n",
       "      <td>157.27</td>\n",
       "    </tr>\n",
       "    <tr>\n",
       "      <th>135</th>\n",
       "      <td>PAPUA</td>\n",
       "      <td>Triwulan 4</td>\n",
       "      <td>180.08</td>\n",
       "      <td>177.46</td>\n",
       "      <td>170.81</td>\n",
       "      <td>158.36</td>\n",
       "    </tr>\n",
       "  </tbody>\n",
       "</table>\n",
       "</div>"
      ],
      "text/plain": [
       "    Provinsi    Triwulan  Pengeluaran_Konsumsi_Rumah_Tangga  \\\n",
       "0       ACEH  Triwulan 1                             153.50   \n",
       "1       ACEH   Triwulan2                             155.04   \n",
       "2       ACEH  Triwulan 3                             155.63   \n",
       "3       ACEH  Triwulan 4                             156.07   \n",
       "132    PAPUA  Triwulan 1                             175.03   \n",
       "133    PAPUA   Triwulan2                             179.07   \n",
       "134    PAPUA  Triwulan 3                             180.28   \n",
       "135    PAPUA  Triwulan 4                             180.08   \n",
       "\n",
       "     Pengeluaran_Konsumsi_LNPRT  Pengeluaran_Konsumsi_Pemerintah    PDRB  \n",
       "0                        149.80                           170.39  153.11  \n",
       "1                        149.93                           176.95  153.82  \n",
       "2                        149.98                           175.16  154.96  \n",
       "3                        150.90                           178.50  156.18  \n",
       "132                      172.66                           168.11  159.46  \n",
       "133                      176.18                           170.99  158.05  \n",
       "134                      177.60                           170.32  157.27  \n",
       "135                      177.46                           170.81  158.36  "
      ]
     },
     "execution_count": 13,
     "metadata": {},
     "output_type": "execute_result"
    }
   ],
   "source": [
    "# Membaca data dari file CSV\n",
    "data = pd.read_csv('C:/Users/User/Documents/Semester 5/data/PDRB Menurut Pengeluaran.csv')\n",
    "\n",
    "# Filter data untuk kedua provinsi\n",
    "data_filtered = data[data['Provinsi'].isin(['PAPUA', 'ACEH'])]\n",
    "data_filtered"
   ]
  },
  {
   "cell_type": "markdown",
   "metadata": {},
   "source": [
    "### Chow Test"
   ]
  },
  {
   "cell_type": "code",
   "execution_count": 14,
   "metadata": {},
   "outputs": [
    {
     "name": "stdout",
     "output_type": "stream",
     "text": [
      "Chow Test Statistic: -22.455121798234796\n",
      "P-Value: 1.0\n",
      "Gagal Tolak H0: Lakukan BP-LM Test\n"
     ]
    }
   ],
   "source": [
    "# Membuat model regresi untuk kedua provinsi\n",
    "# Model untuk PAPUA\n",
    "model_papua = ols('PDRB ~ Pengeluaran_Konsumsi_Rumah_Tangga + Pengeluaran_Konsumsi_LNPRT + Pengeluaran_Konsumsi_Pemerintah', data=data_filtered[data_filtered['Provinsi'] == 'PAPUA']).fit()\n",
    "\n",
    "# Model untuk ACEH\n",
    "model_aceh = ols('PDRB ~ Pengeluaran_Konsumsi_Rumah_Tangga + Pengeluaran_Konsumsi_LNPRT + Pengeluaran_Konsumsi_Pemerintah', data=data_filtered[data_filtered['Provinsi'] == 'ACEH']).fit()\n",
    "\n",
    "# Model gabungan\n",
    "model_combined = ols('PDRB ~ Pengeluaran_Konsumsi_Rumah_Tangga + Pengeluaran_Konsumsi_LNPRT + Pengeluaran_Konsumsi_Pemerintah + C(Provinsi)', data=data_filtered).fit()\n",
    "\n",
    "# Menghitung nilai R-squared dari masing-masing model\n",
    "r_squared_papua = model_papua.rsquared\n",
    "r_squared_aceh = model_aceh.rsquared\n",
    "r_squared_combined = model_combined.rsquared\n",
    "\n",
    "# Menghitung jumlah observasi untuk masing-masing model\n",
    "n_aceh = model_papua.nobs\n",
    "n_sumut = model_aceh.nobs\n",
    "n_combined = model_combined.nobs\n",
    "\n",
    "# Menghitung Chow test statistic\n",
    "numerator = (r_squared_combined - (r_squared_papua + r_squared_aceh)) / 2\n",
    "denominator = (1 - r_squared_combined) / (n_combined - 4)  # 4 adalah jumlah parameter dalam model\n",
    "chow_statistic = numerator / denominator\n",
    "\n",
    "# Menghitung nilai p-value dari Chow test statistic\n",
    "from scipy.stats import f\n",
    "\n",
    "p_value = 1 - f.cdf(chow_statistic, 2, n_combined - 4)\n",
    "\n",
    "# Menampilkan hasil\n",
    "print(f'Chow Test Statistic: {chow_statistic}')\n",
    "print(f'P-Value: {p_value}')\n",
    "\n",
    "if p_value < 0.05:\n",
    "    print(\"Tolak H0: Lakukan Hausman Test\")\n",
    "else:\n",
    "    print(\"Gagal Tolak H0: Lakukan BP-LM Test\")"
   ]
  },
  {
   "cell_type": "markdown",
   "metadata": {},
   "source": [
    "### BP-LM Test"
   ]
  },
  {
   "cell_type": "code",
   "execution_count": 15,
   "metadata": {},
   "outputs": [
    {
     "name": "stdout",
     "output_type": "stream",
     "text": [
      "Hasil BP-LM Test:\n",
      "LM Statistic: 5.789756221891169\n",
      "LM p-value: 0.21540921682359898\n",
      "F Statistic: 1.9646326841529804\n",
      "F p-value: 0.3028670242284117\n",
      "Gagal tolak H0: Gunakan Common Effect Model.\n"
     ]
    }
   ],
   "source": [
    "# Melakukan BP-LM test\n",
    "bp_test = het_breuschpagan(model_combined.resid, model_combined.model.exog)\n",
    "\n",
    "# Hasil BP-LM test\n",
    "bp_test_results = {\n",
    "    'LM Statistic': bp_test[0],\n",
    "    'LM p-value': bp_test[1],\n",
    "    'F Statistic': bp_test[2],\n",
    "    'F p-value': bp_test[3]\n",
    "}\n",
    "\n",
    "# Menampilkan hasil BP-LM test\n",
    "print(\"Hasil BP-LM Test:\")\n",
    "for key, value in bp_test_results.items():\n",
    "    print(f\"{key}: {value}\")\n",
    "\n",
    "# Interpretasi hasil\n",
    "if bp_test[1] < 0.05:\n",
    "    print(\"Tolak H0: Lakukan Hausman Test.\")\n",
    "else:\n",
    "    print(\"Gagal tolak H0: Gunakan Common Effect Model.\")"
   ]
  },
  {
   "cell_type": "markdown",
   "metadata": {},
   "source": [
    "### Regresi Data Model Common Effect Model"
   ]
  },
  {
   "cell_type": "code",
   "execution_count": 16,
   "metadata": {},
   "outputs": [
    {
     "name": "stdout",
     "output_type": "stream",
     "text": [
      "                            OLS Regression Results                            \n",
      "==============================================================================\n",
      "Dep. Variable:                   PDRB   R-squared:                       0.761\n",
      "Model:                            OLS   Adj. R-squared:                  0.582\n",
      "Method:                 Least Squares   F-statistic:                     4.249\n",
      "Date:                Sat, 30 Nov 2024   Prob (F-statistic):             0.0980\n",
      "Time:                        00:06:48   Log-Likelihood:                -11.672\n",
      "No. Observations:                   8   AIC:                             31.34\n",
      "Df Residuals:                       4   BIC:                             31.66\n",
      "Df Model:                           3                                         \n",
      "Covariance Type:            nonrobust                                         \n",
      "=====================================================================================================\n",
      "                                        coef    std err          t      P>|t|      [0.025      0.975]\n",
      "-----------------------------------------------------------------------------------------------------\n",
      "Intercept                           113.5340     57.153      1.986      0.118     -45.149     272.217\n",
      "Pengeluaran_Konsumsi_Rumah_Tangga     0.1457      1.650      0.088      0.934      -4.436       4.728\n",
      "Pengeluaran_Konsumsi_LNPRT            0.0242      1.571      0.015      0.988      -4.338       4.387\n",
      "Pengeluaran_Konsumsi_Pemerintah       0.0846      0.388      0.218      0.838      -0.991       1.161\n",
      "==============================================================================\n",
      "Omnibus:                        1.459   Durbin-Watson:                   1.199\n",
      "Prob(Omnibus):                  0.482   Jarque-Bera (JB):                0.832\n",
      "Skew:                           0.715   Prob(JB):                        0.660\n",
      "Kurtosis:                       2.329   Cond. No.                     3.19e+04\n",
      "==============================================================================\n",
      "\n",
      "Notes:\n",
      "[1] Standard Errors assume that the covariance matrix of the errors is correctly specified.\n",
      "[2] The condition number is large, 3.19e+04. This might indicate that there are\n",
      "strong multicollinearity or other numerical problems.\n"
     ]
    },
    {
     "name": "stderr",
     "output_type": "stream",
     "text": [
      "C:\\Users\\User\\AppData\\Local\\Temp\\ipykernel_17116\\1953237921.py:2: SettingWithCopyWarning: \n",
      "A value is trying to be set on a copy of a slice from a DataFrame.\n",
      "Try using .loc[row_indexer,col_indexer] = value instead\n",
      "\n",
      "See the caveats in the documentation: https://pandas.pydata.org/pandas-docs/stable/user_guide/indexing.html#returning-a-view-versus-a-copy\n",
      "  data_filtered['Intercept'] = 1\n",
      "c:\\Users\\User\\anaconda3\\Lib\\site-packages\\scipy\\stats\\_stats_py.py:1806: UserWarning: kurtosistest only valid for n>=20 ... continuing anyway, n=8\n",
      "  warnings.warn(\"kurtosistest only valid for n>=20 ... continuing \"\n"
     ]
    }
   ],
   "source": [
    "# Menambahkan konstanta untuk model\n",
    "data_filtered['Intercept'] = 1\n",
    "\n",
    "# Membuat model regresi Pooled OLS\n",
    "model_pooled = sm.OLS(data_filtered['PDRB'], data_filtered[['Intercept', 'Pengeluaran_Konsumsi_Rumah_Tangga', 'Pengeluaran_Konsumsi_LNPRT', 'Pengeluaran_Konsumsi_Pemerintah']]).fit()\n",
    "\n",
    "# Menampilkan ringkasan hasil model\n",
    "print(model_pooled.summary())"
   ]
  },
  {
   "cell_type": "markdown",
   "metadata": {},
   "source": [
    "### Uji Heterokedastisitas"
   ]
  },
  {
   "cell_type": "code",
   "execution_count": 17,
   "metadata": {},
   "outputs": [
    {
     "name": "stdout",
     "output_type": "stream",
     "text": [
      "Hasil Uji Heteroskedastisitas Breusch-Pagan:\n",
      "LM Statistic: 1.5569104962218896\n",
      "LM p-value: 0.6691990488209734\n",
      "F Statistic: 0.3221871526713897\n",
      "F p-value: 0.8104275808598106\n",
      "\n",
      "Hasil Uji Heteroskedastisitas White:\n",
      "LM Statistic: 8.0\n",
      "LM p-value: 0.3325939025993081\n",
      "F Statistic: nan\n",
      "F p-value: nan\n"
     ]
    },
    {
     "name": "stderr",
     "output_type": "stream",
     "text": [
      "C:\\Users\\User\\AppData\\Local\\Temp\\ipykernel_17116\\2367447833.py:2: SettingWithCopyWarning: \n",
      "A value is trying to be set on a copy of a slice from a DataFrame.\n",
      "Try using .loc[row_indexer,col_indexer] = value instead\n",
      "\n",
      "See the caveats in the documentation: https://pandas.pydata.org/pandas-docs/stable/user_guide/indexing.html#returning-a-view-versus-a-copy\n",
      "  data_filtered['Intercept'] = 1\n"
     ]
    }
   ],
   "source": [
    "# Menambahkan konstanta untuk model\n",
    "data_filtered['Intercept'] = 1\n",
    "\n",
    "# Membuat model regresi Pooled OLS\n",
    "model_pooled = sm.OLS(data_filtered['PDRB'], data_filtered[['Intercept', 'Pengeluaran_Konsumsi_Rumah_Tangga', 'Pengeluaran_Konsumsi_LNPRT', 'Pengeluaran_Konsumsi_Pemerintah']]).fit()\n",
    "\n",
    "# Uji Heteroskedastisitas Breusch-Pagan\n",
    "bp_test = het_breuschpagan(model_pooled.resid, model_pooled.model.exog)\n",
    "print(\"Hasil Uji Heteroskedastisitas Breusch-Pagan:\")\n",
    "print(f\"LM Statistic: {bp_test[0]}\")\n",
    "print(f\"LM p-value: {bp_test[1]}\")\n",
    "print(f\"F Statistic: {bp_test[2]}\")\n",
    "print(f\"F p-value: {bp_test[3]}\")\n",
    "\n",
    "# Uji Heteroskedastisitas White\n",
    "white_test = het_white(model_pooled.resid, model_pooled.model.exog)\n",
    "print(\"\\nHasil Uji Heteroskedastisitas White:\")\n",
    "print(f\"LM Statistic: {white_test[0]}\")\n",
    "print(f\"LM p-value: {white_test[1]}\")\n",
    "print(f\"F Statistic: {white_test[2]}\")\n",
    "print(f\"F p-value: {white_test[3]}\")"
   ]
  }
 ],
 "metadata": {
  "kernelspec": {
   "display_name": "base",
   "language": "python",
   "name": "python3"
  },
  "language_info": {
   "codemirror_mode": {
    "name": "ipython",
    "version": 3
   },
   "file_extension": ".py",
   "mimetype": "text/x-python",
   "name": "python",
   "nbconvert_exporter": "python",
   "pygments_lexer": "ipython3",
   "version": "3.11.5"
  }
 },
 "nbformat": 4,
 "nbformat_minor": 2
}
